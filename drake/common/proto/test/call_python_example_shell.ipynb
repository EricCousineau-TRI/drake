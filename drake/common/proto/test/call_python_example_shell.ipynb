{
 "metadata": {
  "name": "",
  "signature": "sha256:ad4d8e1ff44fad54cc0d628d72d186492b86574b8e797db62d83448bc45d233e"
 },
 "nbformat": 3,
 "nbformat_minor": 0,
 "worksheets": [
  {
   "cells": [
    {
     "cell_type": "code",
     "collapsed": false,
     "input": [
      "from call_python_client import CallPythonClient\n",
      "import matplotlib.pyplot as plt"
     ],
     "language": "python",
     "metadata": {},
     "outputs": []
    },
    {
     "cell_type": "code",
     "collapsed": false,
     "input": [
      "%matplotlib inline"
     ],
     "language": "python",
     "metadata": {},
     "outputs": []
    },
    {
     "cell_type": "code",
     "collapsed": false,
     "input": [
      "client = CallPythonClient(scope_locals = locals())\n",
      "client.handle_messages();"
     ],
     "language": "python",
     "metadata": {},
     "outputs": []
    },
    {
     "cell_type": "code",
     "collapsed": false,
     "input": [
      "# Print example variable that was sent over.\n",
      "print(example_var)"
     ],
     "language": "python",
     "metadata": {},
     "outputs": []
    },
    {
     "cell_type": "code",
     "collapsed": false,
     "input": [
      "# Tinker with plotting from the variables that were sent over.\n",
      "plt.plot(val, time, 'r--')"
     ],
     "language": "python",
     "metadata": {},
     "outputs": []
    }
   ],
   "metadata": {}
  }
 ]
}