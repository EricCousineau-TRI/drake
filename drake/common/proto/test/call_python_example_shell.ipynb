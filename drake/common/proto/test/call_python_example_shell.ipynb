{
 "metadata": {
  "name": "",
  "signature": "sha256:8e6ed9b47da93f7aeedbaa1b9589b38ef723a65b418d0361d3a325a866e990c3"
 },
 "nbformat": 3,
 "nbformat_minor": 0,
 "worksheets": [
  {
   "cells": [
    {
     "cell_type": "code",
     "collapsed": false,
     "input": [
      "%matplotlib inline"
     ],
     "language": "python",
     "metadata": {},
     "outputs": []
    },
    {
     "cell_type": "code",
     "collapsed": false,
     "input": [
      "from call_python_client import CallPythonClient\n",
      "\n",
      "client = CallPythonClient()"
     ],
     "language": "python",
     "metadata": {},
     "outputs": []
    },
    {
     "cell_type": "code",
     "collapsed": false,
     "input": [
      "client.handle_messages()"
     ],
     "language": "python",
     "metadata": {},
     "outputs": []
    }
   ],
   "metadata": {}
  }
 ]
}