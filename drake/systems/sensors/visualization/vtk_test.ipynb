{
 "metadata": {
  "name": "",
  "signature": "sha256:9a7cc25ea55f6819d56ba8f0a53789418c48c9b966e24996d97370f458fe8859"
 },
 "nbformat": 3,
 "nbformat_minor": 0,
 "worksheets": [
  {
   "cells": [
    {
     "cell_type": "code",
     "collapsed": false,
     "input": [
      "import vtk\n",
      "from vtk.util.numpy_support import vtk_to_numpy"
     ],
     "language": "python",
     "metadata": {},
     "outputs": [],
     "prompt_number": 1
    },
    {
     "cell_type": "code",
     "collapsed": false,
     "input": [
      "w = 2\n",
      "h = 2\n",
      "num_components = 1\n",
      "\n",
      "image = vtk.vtkImageData()\n",
      "image.SetWholeExtent(0, w - 1, 0, h - 1, 0, 0)\n",
      "image.SetExtent(image.GetWholeExtent())\n",
      "image.SetSpacing(1., 1., 1.)\n",
      "image.SetOrigin(0., 0., 0.)\n",
      "image.SetNumberOfScalarComponents(num_components)\n",
      "image.SetScalarType(vtk.VTK_UNSIGNED_SHORT)\n",
      "image.AllocateScalars()"
     ],
     "language": "python",
     "metadata": {},
     "outputs": [],
     "prompt_number": 6
    },
    {
     "cell_type": "code",
     "collapsed": false,
     "input": [
      "data = vtk_to_numpy(image.GetPointData().GetScalars())\n",
      "data.shape = image.GetDimensions()\n",
      "\n",
      "data.flat = [1, 10, 100, 4]"
     ],
     "language": "python",
     "metadata": {},
     "outputs": [],
     "prompt_number": 28
    },
    {
     "cell_type": "code",
     "collapsed": false,
     "input": [
      "print data[0]"
     ],
     "language": "python",
     "metadata": {},
     "outputs": [
      {
       "output_type": "stream",
       "stream": "stdout",
       "text": [
        "[[ 1]\n",
        " [10]]\n"
       ]
      }
     ],
     "prompt_number": 29
    },
    {
     "cell_type": "code",
     "collapsed": false,
     "input": [
      "a = image.GetPointData().GetArray(0)"
     ],
     "language": "python",
     "metadata": {},
     "outputs": [],
     "prompt_number": 30
    },
    {
     "cell_type": "code",
     "collapsed": false,
     "input": [
      "for i in xrange(4):\n",
      "    print(a.GetValue(i))"
     ],
     "language": "python",
     "metadata": {},
     "outputs": [
      {
       "output_type": "stream",
       "stream": "stdout",
       "text": [
        "1\n",
        "10\n",
        "100\n",
        "4\n"
       ]
      }
     ],
     "prompt_number": 31
    },
    {
     "cell_type": "code",
     "collapsed": false,
     "input": [],
     "language": "python",
     "metadata": {},
     "outputs": []
    }
   ],
   "metadata": {}
  }
 ]
}