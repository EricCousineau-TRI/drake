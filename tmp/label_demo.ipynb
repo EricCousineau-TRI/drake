{
 "cells": [
  {
   "cell_type": "code",
   "execution_count": null,
   "metadata": {},
   "outputs": [],
   "source": [
    "from pydrake.all import (\n",
    "    RgbdSensor,\n",
    "    DiagramBuilder,\n",
    "    AddMultibodyPlantSceneGraph,\n",
    "    Parser,\n",
    "    ConnectDrakeVisualizer,\n",
    "    FindResourceOrThrow,\n",
    "    Simulator,\n",
    "    RigidTransform,\n",
    "    RollPitchYaw,\n",
    "    DepthCameraProperties,\n",
    "    MakeRenderEngineVtk, RenderEngineVtkParams,\n",
    "    RenderLabel,\n",
    "    world_model_instance,\n",
    ")"
   ]
  },
  {
   "cell_type": "code",
   "execution_count": null,
   "metadata": {},
   "outputs": [],
   "source": [
    "import os\n",
    "import numpy as np\n",
    "import matplotlib.pyplot as plt\n",
    "import matplotlib as mpl"
   ]
  },
  {
   "cell_type": "code",
   "execution_count": null,
   "metadata": {},
   "outputs": [],
   "source": [
    "def xyz_rpy_deg(xyz, rpy_deg):\n",
    "    rpy_deg = np.asarray(rpy_deg)\n",
    "    return RigidTransform(RollPitchYaw(rpy_deg * np.pi / 180), xyz)"
   ]
  },
  {
   "cell_type": "code",
   "execution_count": null,
   "metadata": {},
   "outputs": [],
   "source": [
    "builder = DiagramBuilder()\n",
    "plant, scene_graph = AddMultibodyPlantSceneGraph(builder)\n",
    "\n",
    "sdf_file = FindResourceOrThrow(\"drake/manipulation/models/iiwa_description/sdf/iiwa14_no_collision.sdf\")\n",
    "iiwa_1 = Parser(plant).AddModelFromFile(sdf_file, model_name=\"iiwa_1\")\n",
    "plant.WeldFrames(\n",
    "    plant.world_frame(), plant.GetFrameByName(\"iiwa_link_0\", iiwa_1),\n",
    "    X_AB=xyz_rpy_deg([0, 0, 0], [0, 0, 0]))\n",
    "\n",
    "iiwa_2 = Parser(plant).AddModelFromFile(sdf_file, model_name=\"iiwa_2\")\n",
    "plant.WeldFrames(\n",
    "    plant.world_frame(), plant.GetFrameByName(\"iiwa_link_0\", iiwa_2),\n",
    "    X_AB=xyz_rpy_deg([0, 1, 0], [0, 0, 0]))\n",
    "\n",
    "ConnectDrakeVisualizer(builder, scene_graph)\n",
    "\n",
    "scene_graph.AddRenderer(\"renderer\", MakeRenderEngineVtk(RenderEngineVtkParams()))\n",
    "depth_prop = DepthCameraProperties(\n",
    "    width=640, height=480, fov_y=np.pi/4, renderer_name=\"renderer\",\n",
    "    z_near=0.01, z_far=10.)\n",
    "\n",
    "world_id = plant.GetBodyFrameIdOrThrow(plant.world_body().index())\n",
    "X_WB = xyz_rpy_deg([4, 0, 0], [-90, 0, 90])\n",
    "sensor = RgbdSensor(world_id, X_PB=X_WB, properties=depth_prop)\n",
    "builder.AddSystem(sensor)\n",
    "builder.Connect(scene_graph.get_query_output_port(), sensor.query_object_input_port())\n",
    "\n",
    "plant.Finalize()\n",
    "diagram = builder.Build()\n",
    "diagram_context = diagram.CreateDefaultContext()"
   ]
  },
  {
   "cell_type": "code",
   "execution_count": null,
   "metadata": {},
   "outputs": [],
   "source": [
    "sensor_context = sensor.GetMyMutableContextFromRoot(diagram_context)"
   ]
  },
  {
   "cell_type": "code",
   "execution_count": null,
   "metadata": {},
   "outputs": [],
   "source": [
    "Simulator(diagram).Initialize()"
   ]
  },
  {
   "cell_type": "code",
   "execution_count": null,
   "metadata": {},
   "outputs": [],
   "source": [
    "reserved_labels = [\n",
    "    RenderLabel.kDoNotRender, RenderLabel.kDontCare, RenderLabel.kEmpty, RenderLabel.kUnspecified]"
   ]
  },
  {
   "cell_type": "code",
   "execution_count": null,
   "metadata": {},
   "outputs": [],
   "source": [
    "def colorize_labels(image, colors=None, bg_color=[0, 0, 0]):\n",
    "    if colors is None:\n",
    "        cc = mpl.colors.ColorConverter()\n",
    "        color_cycle = plt.rcParams[\"axes.prop_cycle\"]\n",
    "        colors = np.array([cc.to_rgb(c[\"color\"]) for c in color_cycle])\n",
    "    image = np.squeeze(image)\n",
    "    background = np.zeros(image.shape[:2], dtype=bool)\n",
    "    for label in reserved_labels:\n",
    "        background |= image == int(label)\n",
    "    color_image = colors[image % len(colors)]\n",
    "    color_image[background] = bg_color\n",
    "    return color_image"
   ]
  },
  {
   "cell_type": "code",
   "execution_count": null,
   "metadata": {},
   "outputs": [],
   "source": [
    "color = sensor.color_image_output_port().Eval(sensor_context).data\n",
    "label = sensor.label_image_output_port().Eval(sensor_context).data\n",
    "_, ax = plt.subplots(1, 2, figsize=(10, 5))\n",
    "ax[0].imshow(color)\n",
    "ax[1].imshow(colorize_labels(label))"
   ]
  },
  {
   "cell_type": "code",
   "execution_count": null,
   "metadata": {},
   "outputs": [],
   "source": []
  },
  {
   "cell_type": "code",
   "execution_count": null,
   "metadata": {},
   "outputs": [],
   "source": [
    "# Change to model instances. 0 "
   ]
  },
  {
   "cell_type": "code",
   "execution_count": null,
   "metadata": {},
   "outputs": [],
   "source": [
    "def"
   ]
  },
  {
   "cell_type": "code",
   "execution_count": null,
   "metadata": {},
   "outputs": [],
   "source": []
  }
 ],
 "metadata": {
  "kernelspec": {
   "display_name": "Python 3",
   "language": "python",
   "name": "python3"
  }
 },
 "nbformat": 4,
 "nbformat_minor": 2
}
