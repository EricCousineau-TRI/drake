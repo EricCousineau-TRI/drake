{
 "cells": [
  {
   "cell_type": "code",
   "execution_count": null,
   "metadata": {},
   "outputs": [],
   "source": [
    "from pydrake.all import (\n",
    "    RgbdSensor,\n",
    "    DiagramBuilder,\n",
    "    AddMultibodyPlantSceneGraph,\n",
    "    Parser,\n",
    "    ConnectDrakeVisualizer,\n",
    "    FindResourceOrThrow,\n",
    "    Simulator,\n",
    "    RigidTransform,\n",
    "    RollPitchYaw,\n",
    "    DepthCameraProperties,\n",
    "    MakeRenderEngineVtk, RenderEngineVtkParams,\n",
    ")"
   ]
  },
  {
   "cell_type": "code",
   "execution_count": null,
   "metadata": {},
   "outputs": [],
   "source": [
    "import os\n",
    "import numpy as np"
   ]
  },
  {
   "cell_type": "code",
   "execution_count": null,
   "metadata": {},
   "outputs": [],
   "source": [
    "def xyz_rpy_deg(xyz, rpy_deg):\n",
    "    rpy_deg = np.asarray(rpy_deg)\n",
    "    return RigidTransform(RollPitchYaw(rpy_deg * np.pi / 180), xyz)"
   ]
  },
  {
   "cell_type": "code",
   "execution_count": null,
   "metadata": {},
   "outputs": [],
   "source": [
    "builder = DiagramBuilder()\n",
    "plant, scene_graph = AddMultibodyPlantSceneGraph(builder)\n",
    "\n",
    "sdf_file = FindResourceOrThrow(\"drake/manipulation/models/iiwa_description/sdf/iiwa14_no_collision.sdf\")\n",
    "iiwa_1 = Parser(plant).AddModelFromFile(sdf_file, model_name=\"iiwa_1\")\n",
    "iiwa_2 = Parser(plant).AddModelFromFile(sdf_file, model_name=\"iiwa_2\")\n",
    "\n",
    "ConnectDrakeVisualizer(builder, scene_graph)\n",
    "\n",
    "scene_graph.AddRenderer(\"renderer\", MakeRenderEngineVtk(RenderEngineVtkParams()))\n",
    "depth_prop = DepthCameraProperties(\n",
    "    width=640, height=480, fov_y=np.pi/4, renderer_name=\"renderer\",\n",
    "    z_near=0.01, z_far=10.)\n",
    "\n",
    "world_id = plant.GetBodyFrameIdOrThrow(plant.world_body().index())\n",
    "X_WB = xyz_rpy_deg([4, 0, 0], [0, -90, 0])\n",
    "sensor = RgbdSensor(world_id, X_PB=X_WB, properties=depth_prop)\n",
    "builder.AddSystem(sensor)\n",
    "builder.Connect(scene_graph.get_query_output_port(), sensor.query_object_input_port())\n",
    "\n",
    "plant.Finalize()\n",
    "diagram = builder.Build()\n",
    "context = diagram.CreateDefaultContext()"
   ]
  },
  {
   "cell_type": "code",
   "execution_count": null,
   "metadata": {},
   "outputs": [],
   "source": [
    "Simulator(diagram).Initialize()"
   ]
  },
  {
   "cell_type": "code",
   "execution_count": null,
   "metadata": {},
   "outputs": [],
   "source": [
    "image = sensor.color_image_output_port().Eval(context)"
   ]
  },
  {
   "cell_type": "code",
   "execution_count": null,
   "metadata": {},
   "outputs": [],
   "source": []
  }
 ],
 "metadata": {
  "kernelspec": {
   "display_name": "Python 3",
   "language": "python",
   "name": "python3"
  },
  "language_info": {
   "codemirror_mode": {
    "name": "ipython",
    "version": 3
   },
   "file_extension": ".py",
   "mimetype": "text/x-python",
   "name": "python",
   "nbconvert_exporter": "python",
   "pygments_lexer": "ipython3",
   "version": "3.6.8"
  }
 },
 "nbformat": 4,
 "nbformat_minor": 2
}
