{
 "cells": [
  {
   "cell_type": "code",
   "execution_count": null,
   "metadata": {},
   "outputs": [],
   "source": [
    "import os\n",
    "from os.path import dirname, expanduser, join\n",
    "from subprocess import Popen, PIPE, STDOUT\n",
    "from IPython.display import HTML"
   ]
  },
  {
   "cell_type": "code",
   "execution_count": null,
   "metadata": {},
   "outputs": [],
   "source": [
    "d = dirname(os.getcwd())\n",
    "print(\"Build\")\n",
    "p = Popen(\"bazel build //bindings/pydrake:hack_generate_pybind_documentation_header\", shell=True, cwd=d)\n",
    "p.wait()\n",
    "print(\" - Done\")"
   ]
  },
  {
   "cell_type": "code",
   "execution_count": null,
   "metadata": {},
   "outputs": [],
   "source": [
    "mar = open(join(d, \"bazel-genfiles/bindings/pydrake/hack_documentation_pybind.h\")).read()\n",
    "lines = mar.split(\"\\n\")\n",
    "values = {\"tree\": [], \"plant\": []}\n",
    "skip = [\"MultibodyTree\", \"MultibodyTree<T>\", \"MultibodyPlant\", \"MultibodyPlant<T>\"]\n",
    "mode = None\n",
    "for line in lines:\n",
    "    name = line.strip()\n",
    "    if name == \"MultibodyTree\":\n",
    "        mode = \"tree\"\n",
    "    elif name == \"MultibodyPlant\":\n",
    "        mode = \"plant\"\n",
    "    elif name == \"\":\n",
    "        mode = None\n",
    "    elif mode is not None:\n",
    "        if name not in skip:\n",
    "            values[mode].append(name)"
   ]
  },
  {
   "cell_type": "code",
   "execution_count": null,
   "metadata": {},
   "outputs": [],
   "source": [
    "for mode, items in values.items():\n",
    "    with open(mode + \".txt\", \"w\") as f:\n",
    "        f.write(\"\\n\".join(items) + \"\\n\")"
   ]
  },
  {
   "cell_type": "code",
   "execution_count": null,
   "metadata": {},
   "outputs": [],
   "source": [
    "p = Popen(\"diff -d -t --side-by-side -W 130 tree.txt plant.txt\", shell=True, stdout=PIPE)\n",
    "p.wait()\n",
    "text = p.stdout.read()\n",
    "lines = text.split(\"\\n\")"
   ]
  },
  {
   "cell_type": "code",
   "execution_count": null,
   "metadata": {},
   "outputs": [],
   "source": [
    "blen = 130 / 2\n",
    "is_diff = '|'\n",
    "tree_only = '<'\n",
    "plant_only = '>'\n",
    "same = [' ', '\\\\']"
   ]
  },
  {
   "cell_type": "code",
   "execution_count": null,
   "metadata": {},
   "outputs": [],
   "source": [
    "html = \"<table>\\n\"\n",
    "\n",
    "for line in lines:\n",
    "    if len(line) == 0:\n",
    "        continue\n",
    "    tree = line[:blen - 1].strip()\n",
    "    sep = line[blen - 1]\n",
    "    plant = line[blen:].strip()\n",
    "\n",
    "    if tree == plant + \"OrThrow\":\n",
    "        sep = same[0]\n",
    "\n",
    "    if sep == is_diff:\n",
    "        # Insert row\n",
    "        html += \"  <tr><td>{}</td><td></td></tr>\".format(tree)\n",
    "        tree = ''\n",
    "    elif sep == tree_only:\n",
    "        assert plant == \"\"\n",
    "    elif sep == plant_only:\n",
    "        pass\n",
    "    elif sep in same:\n",
    "        fmt = \"<font color='green'>{}</font>\"\n",
    "        tree = fmt.format(tree)\n",
    "        plant = fmt.format(plant)\n",
    "    else:\n",
    "        assert False, repr(sep)\n",
    "    plant = \"<i>{}</i>\".format(plant)\n",
    "    html += \"  <tr><td>{}</td><td>{}</td></tr>\\n\".format(tree, plant)\n",
    "\n",
    "html += \"</table>\"\n",
    "HTML(html)"
   ]
  },
  {
   "cell_type": "code",
   "execution_count": null,
   "metadata": {},
   "outputs": [],
   "source": []
  }
 ],
 "metadata": {
  "kernelspec": {
   "display_name": "Python 2",
   "language": "python",
   "name": "python2"
  },
  "language_info": {
   "codemirror_mode": {
    "name": "ipython",
    "version": 2
   },
   "file_extension": ".py",
   "mimetype": "text/x-python",
   "name": "python",
   "nbconvert_exporter": "python",
   "pygments_lexer": "ipython2",
   "version": "2.7.12"
  }
 },
 "nbformat": 4,
 "nbformat_minor": 2
}
