{
 "cells": [
  {
   "cell_type": "code",
   "execution_count": 1,
   "metadata": {},
   "outputs": [],
   "source": [
    "import os\n",
    "from os.path import dirname, expanduser, join\n",
    "from subprocess import Popen, PIPE, STDOUT\n",
    "from IPython.display import HTML"
   ]
  },
  {
   "cell_type": "code",
   "execution_count": 2,
   "metadata": {},
   "outputs": [
    {
     "name": "stdout",
     "output_type": "stream",
     "text": [
      "Build\n",
      " - Done\n"
     ]
    }
   ],
   "source": [
    "d = dirname(os.getcwd())\n",
    "print(\"Build\")\n",
    "p = Popen(\"bazel build //bindings/pydrake:hack_generate_pybind_documentation_header\", shell=True, cwd=d)\n",
    "assert p.wait() == 0\n",
    "print(\" - Done\")"
   ]
  },
  {
   "cell_type": "code",
   "execution_count": 3,
   "metadata": {},
   "outputs": [],
   "source": [
    "mar = open(join(d, \"bazel-genfiles/bindings/pydrake/hack_documentation_pybind.h\")).read()\n",
    "lines = mar.split(\"\\n\")\n",
    "values = {\"tree\": [], \"plant\": []}\n",
    "skip = [\"MultibodyTree\", \"MultibodyTree<T>\", \"MultibodyPlant\", \"MultibodyPlant<T>\"]\n",
    "mode = None\n",
    "for line in lines:\n",
    "    name = line.strip()\n",
    "    if name == \"MultibodyTree\":\n",
    "        mode = \"tree\"\n",
    "    elif name == \"MultibodyPlant\":\n",
    "        mode = \"plant\"\n",
    "    elif name == \"\":\n",
    "        mode = None\n",
    "    elif mode is not None:\n",
    "        if name not in skip:\n",
    "            values[mode].append(name)"
   ]
  },
  {
   "cell_type": "code",
   "execution_count": 4,
   "metadata": {},
   "outputs": [],
   "source": [
    "for mode, items in values.items():\n",
    "    with open(mode + \".txt\", \"w\") as f:\n",
    "        f.write(\"\\n\".join(items) + \"\\n\")"
   ]
  },
  {
   "cell_type": "code",
   "execution_count": 5,
   "metadata": {},
   "outputs": [],
   "source": [
    "p = Popen(\"diff -d -t --side-by-side -W 130 tree.txt plant.txt\", shell=True, stdout=PIPE)\n",
    "assert p.wait() in [0, 1]\n",
    "text = p.stdout.read()\n",
    "lines = text.split(\"\\n\")"
   ]
  },
  {
   "cell_type": "code",
   "execution_count": 6,
   "metadata": {},
   "outputs": [],
   "source": [
    "blen = 130 / 2\n",
    "is_diff = '|'\n",
    "tree_only = '<'\n",
    "plant_only = '>'\n",
    "same = [' ', '\\\\']"
   ]
  },
  {
   "cell_type": "code",
   "execution_count": 7,
   "metadata": {
    "scrolled": false
   },
   "outputs": [
    {
     "data": {
      "text/html": [
       "<table>\n",
       "  <tr><td>AddBody</td><td><i></i></td></tr>\n",
       "  <tr><td><font color='green'>AddForceElement</font></td><td><i><font color='green'>AddForceElement</font></i></td></tr>\n",
       "  <tr><td><font color='green'>AddFrame</font></td><td><i><font color='green'>AddFrame</font></i></td></tr>\n",
       "  <tr><td><font color='green'>AddJoint</font></td><td><i><font color='green'>AddJoint</font></i></td></tr>\n",
       "  <tr><td><font color='green'>AddJointActuator</font></td><td><i><font color='green'>AddJointActuator</font></i></td></tr>\n",
       "  <tr><td>AddMobilizer</td><td><i></i></td></tr>\n",
       "  <tr><td><font color='green'>AddModelInstance</font></td><td><i><font color='green'>AddModelInstance</font></i></td></tr>\n",
       "  <tr><td><font color='green'>AddRigidBody</font></td><td><i><font color='green'>AddRigidBody</font></i></td></tr>\n",
       "  <tr><td>CalcAccelerationKinematicsCache</td><td><i></i></td></tr>\n",
       "  <tr><td>CalcAcrossNodeGeometricJacobianExpressedInWorld</td><td><i></i></td></tr>\n",
       "  <tr><td><font color='green'>CalcAllBodyPosesInWorld</font></td><td><i><font color='green'>CalcAllBodyPosesInWorld</font></i></td></tr>\n",
       "  <tr><td><font color='green'>CalcAllBodySpatialVelocitiesInWorld</font></td><td><i><font color='green'>CalcAllBodySpatialVelocitiesInWorld</font></i></td></tr>\n",
       "  <tr><td>CalcArticulatedBodyInertiaCache</td><td><i></i></td></tr>\n",
       "  <tr><td>CalcBiasForFrameGeometricJacobianExpressedInWorld</td><td><i></i></td></tr>\n",
       "  <tr><td>CalcBiasForPointsGeometricJacobianExpressedInWorld</td><td><i></i></td></tr>\n",
       "  <tr><td><font color='green'>CalcBiasTerm</font></td><td><i><font color='green'>CalcBiasTerm</font></i></td></tr>\n",
       "  <tr><td>CalcConservativePower</td><td><i></i></td></tr>\n",
       "  <tr><td>CalcForceElementsContribution</td><td><i></i></td></tr>\n",
       "  <tr><td><font color='green'>CalcFrameGeometricJacobianExpressedInWorld</font></td><td><i><font color='green'>CalcFrameGeometricJacobianExpressedInWorld</font></i></td></tr>\n",
       "  <tr><td>CalcGravityGeneralizedForces</td><td><i></i></td></tr>\n",
       "  <tr><td>CalcInverseDynamics</td><td><i></i></td></tr>\n",
       "  <tr><td>CalcJacobianSpatialVelocity</td><td><i></i></td></tr>\n",
       "  <tr><td><font color='green'>CalcMassMatrixViaInverseDynamics</font></td><td><i><font color='green'>CalcMassMatrixViaInverseDynamics</font></i></td></tr>\n",
       "  <tr><td><font color='green'>CalcPointsAnalyticalJacobianExpressedInWorld</font></td><td><i><font color='green'>CalcPointsAnalyticalJacobianExpressedInWorld</font></i></td></tr>\n",
       "  <tr><td><font color='green'>CalcPointsGeometricJacobianExpressedInWorld</font></td><td><i><font color='green'>CalcPointsGeometricJacobianExpressedInWorld</font></i></td></tr>\n",
       "  <tr><td><font color='green'>CalcPointsPositions</font></td><td><i><font color='green'>CalcPointsPositions</font></i></td></tr>\n",
       "  <tr><td>CalcPositionKinematicsCache</td><td><i></i></td></tr>\n",
       "  <tr><td>CalcPotentialEnergy</td><td><i></i></td></tr>\n",
       "  <tr><td>CalcRelativeFrameGeometricJacobian</td><td><i></i></td></tr>\n",
       "  <tr><td><font color='green'>CalcRelativeTransform</font></td><td><i><font color='green'>CalcRelativeTransform</font></i></td></tr>\n",
       "  <tr><td>CalcSpatialAccelerationsFromVdot</td><td></td></tr>  <tr><td></td><td><i>CollectRegisteredGeometries</i></td></tr>\n",
       "  <tr><td>CalcVelocityKinematicsCache</td><td><i></i></td></tr>\n",
       "  <tr><td>Clone</td><td><i></i></td></tr>\n",
       "  <tr><td>CloneToScalar</td><td><i></i></td></tr>\n",
       "  <tr><td>CreateDefaultContext</td><td><i></i></td></tr>\n",
       "  <tr><td><font color='green'>EvalBodyPoseInWorld</font></td><td><i><font color='green'>EvalBodyPoseInWorld</font></i></td></tr>\n",
       "  <tr><td><font color='green'>EvalBodySpatialVelocityInWorld</font></td><td><i><font color='green'>EvalBodySpatialVelocityInWorld</font></i></td></tr>\n",
       "  <tr><td>EvalPositionKinematics</td><td><i></i></td></tr>\n",
       "  <tr><td>EvalVelocityKinematics</td><td><i></i></td></tr>\n",
       "  <tr><td><font color='green'>Finalize</font></td><td><i><font color='green'>Finalize</font></i></td></tr>\n",
       "  <tr><td></td><td><i>GetBodiesWeldedTo</i></td></tr>\n",
       "  <tr><td><font color='green'>GetBodyByName</font></td><td><i><font color='green'>GetBodyByName</font></i></td></tr>\n",
       "  <tr><td></td><td><i>GetBodyFrameIdIfExists</i></td></tr>\n",
       "  <tr><td></td><td><i>GetBodyFrameIdOrThrow</i></td></tr>\n",
       "  <tr><td></td><td><i>GetBodyFromFrameId</i></td></tr>\n",
       "  <tr><td></td><td><i>GetCollisionGeometriesForBody</i></td></tr>\n",
       "  <tr><td><font color='green'>GetFrameByName</font></td><td><i><font color='green'>GetFrameByName</font></i></td></tr>\n",
       "  <tr><td><font color='green'>GetJointActuatorByName</font></td><td><i><font color='green'>GetJointActuatorByName</font></i></td></tr>\n",
       "  <tr><td><font color='green'>GetJointByName</font></td><td><i><font color='green'>GetJointByName</font></i></td></tr>\n",
       "  <tr><td><font color='green'>GetModelInstanceByName</font></td><td><i><font color='green'>GetModelInstanceByName</font></i></td></tr>\n",
       "  <tr><td><font color='green'>GetModelInstanceName</font></td><td><i><font color='green'>GetModelInstanceName</font></i></td></tr>\n",
       "  <tr><td></td><td><i>GetMutablePositions</i></td></tr>\n",
       "  <tr><td><font color='green'>GetMutablePositionsAndVelocities</font></td><td><i><font color='green'>GetMutablePositionsAndVelocities</font></i></td></tr>\n",
       "  <tr><td></td><td><i>GetMutableVelocities</i></td></tr>\n",
       "  <tr><td></td><td><i>GetPositions</i></td></tr>\n",
       "  <tr><td><font color='green'>GetPositionsAndVelocities</font></td><td><i><font color='green'>GetPositionsAndVelocities</font></i></td></tr>\n",
       "  <tr><td>GetPositionsFromArray</td><td></td></tr>  <tr><td></td><td><i>GetVelocities</i></td></tr>\n",
       "  <tr><td>GetRigidBodyByName</td><td></td></tr>  <tr><td></td><td><i>GetVisualGeometriesForBody</i></td></tr>\n",
       "  <tr><td>GetVelocitiesFromArray</td><td><i></i></td></tr>\n",
       "  <tr><td><font color='green'>HasBodyNamed</font></td><td><i><font color='green'>HasBodyNamed</font></i></td></tr>\n",
       "  <tr><td><font color='green'>HasFrameNamed</font></td><td><i><font color='green'>HasFrameNamed</font></i></td></tr>\n",
       "  <tr><td><font color='green'>HasJointActuatorNamed</font></td><td><i><font color='green'>HasJointActuatorNamed</font></i></td></tr>\n",
       "  <tr><td><font color='green'>HasJointNamed</font></td><td><i><font color='green'>HasJointNamed</font></i></td></tr>\n",
       "  <tr><td><font color='green'>HasModelInstanceNamed</font></td><td><i><font color='green'>HasModelInstanceNamed</font></i></td></tr>\n",
       "  <tr><td>MakeActuatorSelectorMatrix</td><td></td></tr>  <tr><td></td><td><i>RegisterAsSourceForSceneGraph</i></td></tr>\n",
       "  <tr><td>MakeStateSelectorMatrix</td><td></td></tr>  <tr><td></td><td><i>RegisterCollisionGeometry</i></td></tr>\n",
       "  <tr><td>MakeStateSelectorMatrixFromJointNames</td><td></td></tr>  <tr><td></td><td><i>RegisterVisualGeometry</i></td></tr>\n",
       "  <tr><td>MapQDotToVelocity</td><td><i></i></td></tr>\n",
       "  <tr><td>MapVelocityToQDot</td><td><i></i></td></tr>\n",
       "  <tr><td>SetActuationInArray</td><td><i></i></td></tr>\n",
       "  <tr><td>SetDefaultContext</td><td><i></i></td></tr>\n",
       "  <tr><td><font color='green'>SetDefaultState</font></td><td><i><font color='green'>SetDefaultState</font></i></td></tr>\n",
       "  <tr><td><font color='green'>SetFreeBodyPoseOrThrow</font></td><td><i><font color='green'>SetFreeBodyPose</font></i></td></tr>\n",
       "  <tr><td>SetFreeBodySpatialVelocityOrThrow</td><td></td></tr>  <tr><td></td><td><i>SetFreeBodyPoseInAnchoredFrame</i></td></tr>\n",
       "  <tr><td></td><td><i>SetFreeBodyPoseInWorldFrame</i></td></tr>\n",
       "  <tr><td></td><td><i>SetFreeBodySpatialVelocity</i></td></tr>\n",
       "  <tr><td></td><td><i>SetPositions</i></td></tr>\n",
       "  <tr><td><font color='green'>SetPositionsAndVelocities</font></td><td><i><font color='green'>SetPositionsAndVelocities</font></i></td></tr>\n",
       "  <tr><td>SetPositionsInArray</td><td></td></tr>  <tr><td></td><td><i>SetVelocities</i></td></tr>\n",
       "  <tr><td>SetVelocitiesInArray</td><td></td></tr>  <tr><td></td><td><i>WeldFrames</i></td></tr>\n",
       "  <tr><td>ToAutoDiffXd</td><td></td></tr>  <tr><td></td><td><i>default_coulomb_friction</i></td></tr>\n",
       "  <tr><td></td><td><i>geometry_source_is_registered</i></td></tr>\n",
       "  <tr><td></td><td><i>get_actuation_input_port</i></td></tr>\n",
       "  <tr><td><font color='green'>get_body</font></td><td><i><font color='green'>get_body</font></i></td></tr>\n",
       "  <tr><td></td><td><i>get_contact_penalty_method_time_scale</i></td></tr>\n",
       "  <tr><td></td><td><i>get_contact_results_output_port</i></td></tr>\n",
       "  <tr><td></td><td><i>get_continuous_state_output_port</i></td></tr>\n",
       "  <tr><td><font color='green'>get_frame</font></td><td><i><font color='green'>get_frame</font></i></td></tr>\n",
       "  <tr><td></td><td><i>get_generalized_contact_forces_output_port</i></td></tr>\n",
       "  <tr><td></td><td><i>get_geometry_poses_output_port</i></td></tr>\n",
       "  <tr><td></td><td><i>get_geometry_query_input_port</i></td></tr>\n",
       "  <tr><td><font color='green'>get_joint</font></td><td><i><font color='green'>get_joint</font></i></td></tr>\n",
       "  <tr><td><font color='green'>get_joint_actuator</font></td><td><i><font color='green'>get_joint_actuator</font></i></td></tr>\n",
       "  <tr><td>get_mobilizer</td><td></td></tr>  <tr><td></td><td><i>get_source_id</i></td></tr>\n",
       "  <tr><td>get_multibody_state_vector</td><td></td></tr>  <tr><td></td><td><i>is_finalized</i></td></tr>\n",
       "  <tr><td>get_mutable_multibody_state_vector</td><td></td></tr>  <tr><td></td><td><i>model</i></td></tr>\n",
       "  <tr><td>get_positions_from_array</td><td><i></i></td></tr>\n",
       "  <tr><td>get_topology</td><td><i></i></td></tr>\n",
       "  <tr><td>get_variant</td><td><i></i></td></tr>\n",
       "  <tr><td>get_velocities_from_array</td><td><i></i></td></tr>\n",
       "  <tr><td><font color='green'>num_actuated_dofs</font></td><td><i><font color='green'>num_actuated_dofs</font></i></td></tr>\n",
       "  <tr><td><font color='green'>num_actuators</font></td><td><i><font color='green'>num_actuators</font></i></td></tr>\n",
       "  <tr><td><font color='green'>num_bodies</font></td><td><i><font color='green'>num_bodies</font></i></td></tr>\n",
       "  <tr><td></td><td><i>num_collision_geometries</i></td></tr>\n",
       "  <tr><td><font color='green'>num_force_elements</font></td><td><i><font color='green'>num_force_elements</font></i></td></tr>\n",
       "  <tr><td><font color='green'>num_frames</font></td><td><i><font color='green'>num_frames</font></i></td></tr>\n",
       "  <tr><td><font color='green'>num_joints</font></td><td><i><font color='green'>num_joints</font></i></td></tr>\n",
       "  <tr><td>num_mobilizers</td><td><i></i></td></tr>\n",
       "  <tr><td><font color='green'>num_model_instances</font></td><td><i><font color='green'>num_model_instances</font></i></td></tr>\n",
       "  <tr><td></td><td><i>num_multibody_states</i></td></tr>\n",
       "  <tr><td><font color='green'>num_positions</font></td><td><i><font color='green'>num_positions</font></i></td></tr>\n",
       "  <tr><td>num_states</td><td><i></i></td></tr>\n",
       "  <tr><td><font color='green'>num_velocities</font></td><td><i><font color='green'>num_velocities</font></i></td></tr>\n",
       "  <tr><td>set_actuation_vector</td><td></td></tr>  <tr><td></td><td><i>num_visual_geometries</i></td></tr>\n",
       "  <tr><td>set_multibody_state_vector</td><td></td></tr>  <tr><td></td><td><i>set_penetration_allowance</i></td></tr>\n",
       "  <tr><td>set_positions_in_array</td><td></td></tr>  <tr><td></td><td><i>set_stiction_tolerance</i></td></tr>\n",
       "  <tr><td>set_tree_system</td><td></td></tr>  <tr><td></td><td><i>time_step</i></td></tr>\n",
       "  <tr><td>set_velocities_in_array</td><td><i></i></td></tr>\n",
       "  <tr><td>topology_is_valid</td><td><i></i></td></tr>\n",
       "  <tr><td>tree_height</td><td><i></i></td></tr>\n",
       "  <tr><td><font color='green'>world_body</font></td><td><i><font color='green'>world_body</font></i></td></tr>\n",
       "  <tr><td><font color='green'>world_frame</font></td><td><i><font color='green'>world_frame</font></i></td></tr>\n",
       "</table>"
      ],
      "text/plain": [
       "<IPython.core.display.HTML object>"
      ]
     },
     "execution_count": 7,
     "metadata": {},
     "output_type": "execute_result"
    }
   ],
   "source": [
    "html = \"<table>\\n\"\n",
    "\n",
    "for line in lines:\n",
    "    if len(line) == 0:\n",
    "        continue\n",
    "    tree = line[:blen - 1].strip()\n",
    "    sep = line[blen - 1]\n",
    "    plant = line[blen:].strip()\n",
    "\n",
    "    if tree == plant + \"OrThrow\":\n",
    "        sep = same[0]\n",
    "\n",
    "    if sep == is_diff:\n",
    "        # Insert row\n",
    "        html += \"  <tr><td>{}</td><td></td></tr>\".format(tree)\n",
    "        tree = ''\n",
    "    elif sep == tree_only:\n",
    "        assert plant == \"\"\n",
    "    elif sep == plant_only:\n",
    "        pass\n",
    "    elif sep in same:\n",
    "        fmt = \"<font color='green'>{}</font>\"\n",
    "        tree = fmt.format(tree)\n",
    "        plant = fmt.format(plant)\n",
    "    else:\n",
    "        assert False, repr(sep)\n",
    "    plant = \"<i>{}</i>\".format(plant)\n",
    "    html += \"  <tr><td>{}</td><td>{}</td></tr>\\n\".format(tree, plant)\n",
    "\n",
    "html += \"</table>\"\n",
    "HTML(html)"
   ]
  },
  {
   "cell_type": "code",
   "execution_count": null,
   "metadata": {},
   "outputs": [],
   "source": []
  }
 ],
 "metadata": {
  "kernelspec": {
   "display_name": "Python 2",
   "language": "python",
   "name": "python2"
  },
  "language_info": {
   "codemirror_mode": {
    "name": "ipython",
    "version": 2
   },
   "file_extension": ".py",
   "mimetype": "text/x-python",
   "name": "python",
   "nbconvert_exporter": "python",
   "pygments_lexer": "ipython2",
   "version": "2.7.12"
  }
 },
 "nbformat": 4,
 "nbformat_minor": 2
}
