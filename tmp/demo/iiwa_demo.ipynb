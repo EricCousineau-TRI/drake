{
 "cells": [
  {
   "cell_type": "code",
   "execution_count": null,
   "metadata": {},
   "outputs": [],
   "source": [
    "import lcm\n",
    "from model_benchmark import make_plant"
   ]
  },
  {
   "cell_type": "code",
   "execution_count": null,
   "metadata": {},
   "outputs": [],
   "source": [
    "from pydrake.all import Simulator"
   ]
  },
  {
   "cell_type": "code",
   "execution_count": null,
   "metadata": {},
   "outputs": [],
   "source": [
    "import subprocess\n",
    "import time"
   ]
  },
  {
   "cell_type": "code",
   "execution_count": null,
   "metadata": {},
   "outputs": [],
   "source": [
    "import os"
   ]
  },
  {
   "cell_type": "code",
   "execution_count": null,
   "metadata": {},
   "outputs": [],
   "source": [
    "def launch_viz():\n",
    "    return subprocess.Popen([\"bazel-bin/tools/drake_visualizer\"], cwd=\"/home/eacousineau/proj/tri/repo/drake\")"
   ]
  },
  {
   "cell_type": "code",
   "execution_count": null,
   "metadata": {},
   "outputs": [],
   "source": [
    "a = dict(suffix=\"\", url=\"udpm://239.255.76.67:7667?ttl=1\")\n",
    "b = dict(suffix=\"_1.6\", url=\"udpm://239.255.76.67:7668?ttl=1\")"
   ]
  },
  {
   "cell_type": "code",
   "execution_count": null,
   "metadata": {},
   "outputs": [],
   "source": [
    "def reload(d, launch):\n",
    "    os.environ[\"LCM_DEFAULT_URL\"] = d[\"url\"]\n",
    "    if launch:\n",
    "        launch_viz()\n",
    "    _, _, new = make_plant(f\"drake/manipulation/models/iiwa_description/sdf/iiwa14_no_collision{d['suffix']}.sdf\")\n",
    "    if launch:\n",
    "        time.sleep(2)\n",
    "    context = new.CreateDefaultContext()\n",
    "    Simulator(new).Initialize()\n",
    "    new.Publish(context)\n",
    "    return new"
   ]
  },
  {
   "cell_type": "code",
   "execution_count": null,
   "metadata": {},
   "outputs": [],
   "source": [
    "reload(a, launch=True)\n",
    "reload(b, launch=True)"
   ]
  },
  {
   "cell_type": "code",
   "execution_count": null,
   "metadata": {},
   "outputs": [],
   "source": [
    "reload(a, launch=False)\n",
    "reload(b, launch=False)"
   ]
  },
  {
   "cell_type": "code",
   "execution_count": null,
   "metadata": {},
   "outputs": [],
   "source": [
    "\"\"\"\n",
    "diff --git a/manipulation/models/iiwa_description/sdf/iiwa14_no_collision.sdf b/manipulation/models/iiwa_description/sdf/iiwa14_no_collision.sdf\n",
    "index 7843f156d..b3d66607c 100644\n",
    "--- a/manipulation/models/iiwa_description/sdf/iiwa14_no_collision.sdf\n",
    "+++ b/manipulation/models/iiwa_description/sdf/iiwa14_no_collision.sdf\n",
    "@@ -91,7 +91,7 @@ Later edited by hand to:\n",
    "       </axis>\n",
    "     </joint>\n",
    "     <link name='iiwa_link_2'>\n",
    "-      <pose relative_to=\"iiwa_joint_2\"/>\n",
    "+      <pose relative_to=\"iiwa_joint_2\">0 0 0  0 0 1.57</pose>\n",
    "       <inertial>\n",
    "         <pose>0.0003 0.059 0.042 0 -0 0</pose>\n",
    "         <mass>6.35</mass>\n",
    "diff --git a/manipulation/models/iiwa_description/sdf/iiwa14_no_collision_1.6.sdf b/manipulation/models/iiwa_description/sdf/iiwa14_no_collision_1.6.sdf\n",
    "index 5371be456..b6cf9a630 100644\n",
    "--- a/manipulation/models/iiwa_description/sdf/iiwa14_no_collision_1.6.sdf\n",
    "+++ b/manipulation/models/iiwa_description/sdf/iiwa14_no_collision_1.6.sdf\n",
    "@@ -88,7 +88,7 @@ Later edited by hand to rename the base link and remove damping from the joints.\n",
    "       </axis>\n",
    "     </joint>\n",
    "     <link name='iiwa_link_2'>\n",
    "-      <pose frame=''>0 0 0.36 1.5708 -0 -3.14159</pose>\n",
    "+      <pose frame=''>0 0 0.36 1.5708 -1.57 -3.14159</pose>\n",
    "       <inertial>\n",
    "         <pose frame=''>0.0003 0.059 0.042 0 -0 0</pose>\n",
    "         <mass>6.35</mass>\n",
    "\"\"\";"
   ]
  },
  {
   "cell_type": "code",
   "execution_count": null,
   "metadata": {},
   "outputs": [],
   "source": []
  }
 ],
 "metadata": {
  "kernelspec": {
   "display_name": "Python 3",
   "language": "python",
   "name": "python3"
  },
  "language_info": {
   "codemirror_mode": {
    "name": "ipython",
    "version": 3
   },
   "file_extension": ".py",
   "mimetype": "text/x-python",
   "name": "python",
   "nbconvert_exporter": "python",
   "pygments_lexer": "ipython3",
   "version": "3.6.8"
  }
 },
 "nbformat": 4,
 "nbformat_minor": 2
}
