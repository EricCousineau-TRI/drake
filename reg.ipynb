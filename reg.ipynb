{
 "cells": [
  {
   "cell_type": "code",
   "execution_count": 1,
   "metadata": {},
   "outputs": [],
   "source": [
    "from collections import namedtuple\n",
    "import re"
   ]
  },
  {
   "cell_type": "code",
   "execution_count": 4,
   "metadata": {},
   "outputs": [],
   "source": [
    "def rindex(s, sub):\n",
    "    return len(s) - s[::-1].index(sub) - len(sub)\n",
    "\n",
    "#: extended signature RE: with explicit module name separated by ::\n",
    "class IrregularExpression(object):\n",
    "    FakeMatch = namedtuple('FakeMatch', 'groups')\n",
    "    py_sig = re.compile(\n",
    "        r'''^     (\\w.*?) \\s*               # symbol\n",
    "                  (?:\n",
    "                      \\((.*)\\)              # optional: arguments\n",
    "                      (?:\\s* -> \\s* (.*))?  # return annotation\n",
    "                  )? $\n",
    "              ''', re.VERBOSE)\n",
    "\n",
    "    def match(self, full):\n",
    "        m = self.py_sig.match(full)\n",
    "        if not m:\n",
    "            return None\n",
    "        s, arg, retann = m.groups()\n",
    "        # Extract module name using a greedy match.\n",
    "        explicit_modname = None\n",
    "        if \"::\" in s:\n",
    "            pos = rindex(s, \"::\") + 2\n",
    "            explicit_modname = s[:pos]\n",
    "            s = s[pos:]\n",
    "            print((explicit_modname, s))\n",
    "        pieces = []\n",
    "        piece = ''\n",
    "        num_open = 0\n",
    "        i = 0\n",
    "        for c in s:\n",
    "            if c.isspace() or c == '(':\n",
    "                break\n",
    "            if num_open == 0 and c == '.':\n",
    "                pieces.append(piece)\n",
    "                piece = ''\n",
    "            else:\n",
    "                if c == '[':\n",
    "                    num_open += 1\n",
    "                elif c == ']':\n",
    "                    num_open -= 1\n",
    "                piece += c\n",
    "            i += 1\n",
    "        if not piece:\n",
    "            return None\n",
    "        pieces.append(piece)\n",
    "        path = '.'.join(pieces[:-1])\n",
    "        if path:\n",
    "            path += \".\"\n",
    "        else:\n",
    "            path = None\n",
    "        base = pieces[-1]\n",
    "        groups = lambda: (explicit_modname, path, base, arg, retann)\n",
    "#         if \"[\" not in s_orig:\n",
    "#             try:\n",
    "#                 assert old_m is not None, (s_orig, groups())\n",
    "#                 old_groups = old_m.groups()\n",
    "#                 assert old_groups == groups(), s_orig\n",
    "#                 print(groups())\n",
    "#                 print(old_groups)\n",
    "#                 print(\"---\")\n",
    "#             except:\n",
    "#                 import traceback\n",
    "#                 traceback.print_stack()\n",
    "#                 raise\n",
    "        # print((\"match\", s_orig, groups()))\n",
    "        return self.FakeMatch(groups)\n",
    "\n",
    "py_ext_sig_re = IrregularExpression()"
   ]
  },
  {
   "cell_type": "code",
   "execution_count": 5,
   "metadata": {},
   "outputs": [],
   "source": [
    "#: extended signature RE: with explicit module name separated by ::\n",
    "old = re.compile(\n",
    "    r'''^ ([\\w.]+::)?            # explicit module name\n",
    "          ([\\w.]+\\.)?            # module and/or class name(s)\n",
    "          (\\w+)  \\s*             # thing name\n",
    "          (?: \\((.*)\\)           # optional: arguments\n",
    "           (?:\\s* -> \\s* (.*))?  #           return annotation\n",
    "          )? $                   # and nothing more\n",
    "          ''', re.VERBOSE)"
   ]
  },
  {
   "cell_type": "code",
   "execution_count": 6,
   "metadata": {},
   "outputs": [
    {
     "name": "stdout",
     "output_type": "stream",
     "text": [
      "(None, 'a.b.', 'Name', None, None)\n",
      "(None, 'a.b.', 'Name', None, None)\n",
      "---\n",
      "(None, 'a.b.', 'Name[Hello]', None, None)\n",
      "(None, 'a.b.', 'Name_Hello_', None, None)\n",
      "---\n",
      "('x::', 'a')\n",
      "('x::', None, 'a', None, None)\n",
      "('x::', None, 'a', None, None)\n",
      "---\n",
      "('x::', 'a.b.Name[Stuff.Bye].Yawrs[x[1.2]]')\n",
      "('x::', 'a.b.Name[Stuff.Bye].', 'Yawrs[x[1.2]]', 'self, x, y', 'None')\n",
      "('x::', 'a.b.Name_Stuff.Bye_.Yawrs_x_1.', '2__', 'self, x, y', 'None')\n",
      "---\n",
      "(None, None, 'FindClosestPair', 'lane: drake::maliput::api::Lane, ego_pose: pydrake.systems.rendering.PoseVector, traffic_poses: pydrake.systems.rendering.PoseBundle, scan_distance: float, path_or_branches: pydrake.automotive.ScanStrategy', 'Dict[pydrake.automotive.AheadOrBehind, pydrake.automotive.ClosestPose]')\n",
      "(None, None, 'FindClosestPair', 'lane: drake::maliput::api::Lane, ego_pose: pydrake.systems.rendering.PoseVector, traffic_poses: pydrake.systems.rendering.PoseBundle, scan_distance: float, path_or_branches: pydrake.automotive.ScanStrategy', 'Dict_pydrake.automotive.AheadOrBehind, pydrake.automotive.ClosestPose_')\n",
      "---\n"
     ]
    }
   ],
   "source": [
    "names = [\n",
    "    \"a.b.Name\",\n",
    "    \"a.b.Name[Hello]\",\n",
    "    \"x::a\",\n",
    "    \"x::a.b.Name[Stuff.Bye].Yawrs[x[1.2]](self, x, y) -> None\",\n",
    "    \"FindClosestPair(lane: drake::maliput::api::Lane, ego_pose: pydrake.systems.rendering.PoseVector, traffic_poses: pydrake.systems.rendering.PoseBundle, scan_distance: float, path_or_branches: pydrake.automotive.ScanStrategy) -> Dict[pydrake.automotive.AheadOrBehind, pydrake.automotive.ClosestPose]\",\n",
    "]\n",
    "\n",
    "def g(x):\n",
    "    if x: return x.groups()\n",
    "\n",
    "for name in names:\n",
    "    print(g(py_ext_sig_re.match(name)))\n",
    "    print(g(old.match(name.replace('[', '_').replace(']', '_'))))\n",
    "    print(\"---\")\n",
    "    "
   ]
  },
  {
   "cell_type": "code",
   "execution_count": 7,
   "metadata": {},
   "outputs": [],
   "source": [
    "import sys"
   ]
  },
  {
   "cell_type": "code",
   "execution_count": 8,
   "metadata": {},
   "outputs": [
    {
     "data": {
      "text/plain": [
       "['',\n",
       " '/home/eacousineau/devel/amber_developer_stack/common_scripts/src',\n",
       " '/home/eacousineau/devel/git/urdf_parser_py/src',\n",
       " '/home/eacousineau/proj/tri/repo/branches/drake/tmp/drake',\n",
       " '/home/eacousineau/proj/tri/repo/drake/build/py3/lib/python35.zip',\n",
       " '/home/eacousineau/proj/tri/repo/drake/build/py3/lib/python3.5',\n",
       " '/home/eacousineau/proj/tri/repo/drake/build/py3/lib/python3.5/plat-x86_64-linux-gnu',\n",
       " '/home/eacousineau/proj/tri/repo/drake/build/py3/lib/python3.5/lib-dynload',\n",
       " '/usr/lib/python3.5',\n",
       " '/usr/lib/python3.5/plat-x86_64-linux-gnu',\n",
       " '/home/eacousineau/proj/tri/repo/drake/build/py3/lib/python3.5/site-packages',\n",
       " '/home/eacousineau/.local/lib/python3.5/site-packages',\n",
       " '/usr/lib/python3.5/site-packages',\n",
       " '/usr/local/lib/python3.5/dist-packages',\n",
       " '/usr/lib/python3/dist-packages',\n",
       " '/home/eacousineau/.local/lib/python3.5/site-packages/IPython/extensions',\n",
       " '/home/eacousineau/.ipython']"
      ]
     },
     "execution_count": 8,
     "metadata": {},
     "output_type": "execute_result"
    }
   ],
   "source": [
    "sys.path"
   ]
  },
  {
   "cell_type": "code",
   "execution_count": 9,
   "metadata": {},
   "outputs": [],
   "source": [
    "pieces = [u'ImageTraits', u'ImageTraits[PixelType', u'kRgba8U]', u'kPixelFormat']"
   ]
  },
  {
   "cell_type": "code",
   "execution_count": 10,
   "metadata": {},
   "outputs": [
    {
     "data": {
      "text/plain": [
       "'x::a'"
      ]
     },
     "execution_count": 10,
     "metadata": {},
     "output_type": "execute_result"
    }
   ],
   "source": []
  },
  {
   "cell_type": "code",
   "execution_count": null,
   "metadata": {},
   "outputs": [],
   "source": []
  }
 ],
 "metadata": {
  "kernelspec": {
   "display_name": "Python 2",
   "language": "python",
   "name": "python2"
  },
  "language_info": {
   "codemirror_mode": {
    "name": "ipython",
    "version": 3
   },
   "file_extension": ".py",
   "mimetype": "text/x-python",
   "name": "python",
   "nbconvert_exporter": "python",
   "pygments_lexer": "ipython3",
   "version": "3.5.2"
  }
 },
 "nbformat": 4,
 "nbformat_minor": 2
}
