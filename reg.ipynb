{
 "cells": [
  {
   "cell_type": "code",
   "execution_count": 50,
   "metadata": {},
   "outputs": [],
   "source": [
    "from collections import namedtuple\n",
    "import re"
   ]
  },
  {
   "cell_type": "code",
   "execution_count": 55,
   "metadata": {},
   "outputs": [],
   "source": [
    "py_sig_func = re.compile(\n",
    "    r'''^ \\s* (?: \\((.*)\\)       # optional: arguments\n",
    "              (?:\\s* -> \\s* (.*))?  #           return annotation\n",
    "              )? $                   # and nothing more\n",
    "          ''', re.VERBOSE)\n",
    "\n",
    "class IrregularExpression(object):\n",
    "    FakeMatch = namedtuple('FakeMatch', 'groups')\n",
    "\n",
    "    def match(self, s):\n",
    "        # explicit_modname\n",
    "        explicit_modname = None\n",
    "        if \"::\" in s:\n",
    "            explicit_modname, s = s.split(\"::\")\n",
    "        pieces = []\n",
    "        piece = ''\n",
    "        num_open = 0\n",
    "        i = 0\n",
    "        for c in s:\n",
    "            if c.isspace() or c == '(':\n",
    "                break\n",
    "            if num_open == 0 and c == '.':\n",
    "                pieces.append(piece)\n",
    "                piece = ''\n",
    "            else:\n",
    "                if c == '[':\n",
    "                    num_open += 1\n",
    "                elif c == ']':\n",
    "                    num_open -= 1\n",
    "                piece += c\n",
    "            i += 1\n",
    "        pieces.append(piece)\n",
    "        remaining = s[i:]\n",
    "        r_groups = py_sig_func.match(remaining).groups()\n",
    "        path = '.'.join(pieces[:-1]) or None\n",
    "        base = pieces[-1]\n",
    "        groups = (\n",
    "            explicit_modname,\n",
    "            path,\n",
    "            base,\n",
    "        ) + r_groups\n",
    "        return self.FakeMatch(lambda: groups)\n",
    "\n",
    "py_ext_sig_re = IrregularExpression()"
   ]
  },
  {
   "cell_type": "code",
   "execution_count": 57,
   "metadata": {},
   "outputs": [],
   "source": [
    "#: extended signature RE: with explicit module name separated by ::\n",
    "py_ext_sig_re_orig = re.compile(\n",
    "    r'''^ ([\\w.]+::)?            # explicit module name\n",
    "          ([\\w.]+\\.)?            # module and/or class name(s)\n",
    "          (\\w+)  \\s*             # thing name\n",
    "          (?: \\((.*)\\)           # optional: arguments\n",
    "           (?:\\s* -> \\s* (.*))?  #           return annotation\n",
    "          )? $                   # and nothing more\n",
    "          ''', re.VERBOSE)"
   ]
  },
  {
   "cell_type": "code",
   "execution_count": 60,
   "metadata": {},
   "outputs": [
    {
     "name": "stdout",
     "output_type": "stream",
     "text": [
      "(None, 'a.b', 'Name', None, None)\n",
      "(None, 'a.b.', 'Name', None, None)\n",
      "---\n",
      "(None, 'a.b', 'Name[Hello]', None, None)\n",
      "(None, 'a.b.', 'Name_Hello_', None, None)\n",
      "---\n",
      "('x', 'a.b.Name[Stuff.Bye]', 'Yawrs[x[1.2]]', 'self, x, y', 'None')\n",
      "('x::', 'a.b.Name_Stuff.Bye_.Yawrs_x_1.', '2__', 'self, x, y', 'None')\n",
      "---\n"
     ]
    }
   ],
   "source": [
    "names = [\n",
    "    \"a.b.Name\",\n",
    "    \"a.b.Name[Hello]\",\n",
    "    \"x::a.b.Name[Stuff.Bye].Yawrs[x[1.2]](self, x, y) -> None\",\n",
    "]\n",
    "\n",
    "for name in names:\n",
    "    print(py_ext_sig_re.match(name).groups())\n",
    "    print(py_ext_sig_re_orig.match(name.replace('[', '_').replace(']', '_')).groups())\n",
    "    print(\"---\")"
   ]
  },
  {
   "cell_type": "code",
   "execution_count": null,
   "metadata": {},
   "outputs": [],
   "source": []
  }
 ],
 "metadata": {
  "kernelspec": {
   "display_name": "Python 2",
   "language": "python",
   "name": "python2"
  },
  "language_info": {
   "codemirror_mode": {
    "name": "ipython",
    "version": 3
   },
   "file_extension": ".py",
   "mimetype": "text/x-python",
   "name": "python",
   "nbconvert_exporter": "python",
   "pygments_lexer": "ipython3",
   "version": "3.5.2"
  }
 },
 "nbformat": 4,
 "nbformat_minor": 2
}
