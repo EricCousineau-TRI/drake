{
 "cells": [
  {
   "cell_type": "code",
   "execution_count": null,
   "metadata": {},
   "outputs": [],
   "source": [
    "from collections import namedtuple\n",
    "import re"
   ]
  },
  {
   "cell_type": "code",
   "execution_count": null,
   "metadata": {},
   "outputs": [],
   "source": [
    "s = \"x::a\"\n",
    "pos = rindex(s, \"::\")"
   ]
  },
  {
   "cell_type": "code",
   "execution_count": null,
   "metadata": {},
   "outputs": [],
   "source": [
    "pos"
   ]
  },
  {
   "cell_type": "code",
   "execution_count": null,
   "metadata": {},
   "outputs": [],
   "source": [
    "def rindex(s, sub):\n",
    "    return len(s) - s[::-1].index(sub) - len(sub)\n",
    "\n",
    "#: extended signature RE: with explicit module name separated by ::\n",
    "class IrregularExpression(object):\n",
    "    FakeMatch = namedtuple('FakeMatch', 'groups')\n",
    "    py_sig = re.compile(\n",
    "        r'''^     (\\w.*?) \\s*               # symbol\n",
    "                  (?:\n",
    "                      \\((.*)\\)              # optional: arguments\n",
    "                      (?:\\s* -> \\s* (.*))?  # return annotation\n",
    "                  )? $\n",
    "              ''', re.VERBOSE)\n",
    "\n",
    "    def match(self, full):\n",
    "        m = self.py_sig.match(full)\n",
    "        if not m:\n",
    "            return None\n",
    "        s, arg, retann = m.groups()\n",
    "        # Extract module name using a greedy match.\n",
    "        explicit_modname = None\n",
    "        if \"::\" in s:\n",
    "            pos = rindex(s, \"::\") + 2\n",
    "            explicit_modname = s[:pos]\n",
    "            s = s[pos:]\n",
    "            print((explicit_modname, s))\n",
    "        pieces = []\n",
    "        piece = ''\n",
    "        num_open = 0\n",
    "        i = 0\n",
    "        for c in s:\n",
    "            if c.isspace() or c == '(':\n",
    "                break\n",
    "            if num_open == 0 and c == '.':\n",
    "                pieces.append(piece)\n",
    "                piece = ''\n",
    "            else:\n",
    "                if c == '[':\n",
    "                    num_open += 1\n",
    "                elif c == ']':\n",
    "                    num_open -= 1\n",
    "                piece += c\n",
    "            i += 1\n",
    "        if not piece:\n",
    "            return None\n",
    "        pieces.append(piece)\n",
    "        path = '.'.join(pieces[:-1])\n",
    "        if path:\n",
    "            path += \".\"\n",
    "        else:\n",
    "            path = None\n",
    "        base = pieces[-1]\n",
    "        groups = lambda: (explicit_modname, path, base, arg, retann)\n",
    "#         if \"[\" not in s_orig:\n",
    "#             try:\n",
    "#                 assert old_m is not None, (s_orig, groups())\n",
    "#                 old_groups = old_m.groups()\n",
    "#                 assert old_groups == groups(), s_orig\n",
    "#                 print(groups())\n",
    "#                 print(old_groups)\n",
    "#                 print(\"---\")\n",
    "#             except:\n",
    "#                 import traceback\n",
    "#                 traceback.print_stack()\n",
    "#                 raise\n",
    "        # print((\"match\", s_orig, groups()))\n",
    "        return self.FakeMatch(groups)\n",
    "\n",
    "py_ext_sig_re = IrregularExpression()"
   ]
  },
  {
   "cell_type": "code",
   "execution_count": null,
   "metadata": {},
   "outputs": [],
   "source": [
    "#: extended signature RE: with explicit module name separated by ::\n",
    "old = re.compile(\n",
    "    r'''^ ([\\w.]+::)?            # explicit module name\n",
    "          ([\\w.]+\\.)?            # module and/or class name(s)\n",
    "          (\\w+)  \\s*             # thing name\n",
    "          (?: \\((.*)\\)           # optional: arguments\n",
    "           (?:\\s* -> \\s* (.*))?  #           return annotation\n",
    "          )? $                   # and nothing more\n",
    "          ''', re.VERBOSE)"
   ]
  },
  {
   "cell_type": "code",
   "execution_count": null,
   "metadata": {},
   "outputs": [],
   "source": [
    "names = [\n",
    "    \"a.b.Name\",\n",
    "    \"a.b.Name[Hello]\",\n",
    "    \"x::a\",\n",
    "    \"x::a.b.Name[Stuff.Bye].Yawrs[x[1.2]](self, x, y) -> None\",\n",
    "    \"FindClosestPair(lane: drake::maliput::api::Lane, ego_pose: pydrake.systems.rendering.PoseVector, traffic_poses: pydrake.systems.rendering.PoseBundle, scan_distance: float, path_or_branches: pydrake.automotive.ScanStrategy) -> Dict[pydrake.automotive.AheadOrBehind, pydrake.automotive.ClosestPose]\",\n",
    "]\n",
    "\n",
    "def g(x):\n",
    "    if x: return x.groups()\n",
    "\n",
    "for name in names:\n",
    "    print(g(py_ext_sig_re.match(name)))\n",
    "    print(g(old.match(name.replace('[', '_').replace(']', '_'))))\n",
    "    print(\"---\")\n",
    "    "
   ]
  },
  {
   "cell_type": "code",
   "execution_count": null,
   "metadata": {},
   "outputs": [],
   "source": [
    "import sys"
   ]
  },
  {
   "cell_type": "code",
   "execution_count": null,
   "metadata": {},
   "outputs": [],
   "source": [
    "sys.path"
   ]
  },
  {
   "cell_type": "code",
   "execution_count": null,
   "metadata": {},
   "outputs": [],
   "source": []
  }
 ],
 "metadata": {
  "kernelspec": {
   "display_name": "Python 2",
   "language": "python",
   "name": "python2"
  },
  "language_info": {
   "codemirror_mode": {
    "name": "ipython",
    "version": 3
   },
   "file_extension": ".py",
   "mimetype": "text/x-python",
   "name": "python",
   "nbconvert_exporter": "python",
   "pygments_lexer": "ipython3",
   "version": "3.5.2"
  }
 },
 "nbformat": 4,
 "nbformat_minor": 2
}
