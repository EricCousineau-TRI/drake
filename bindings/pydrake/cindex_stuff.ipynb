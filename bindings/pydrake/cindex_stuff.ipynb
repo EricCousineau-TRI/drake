{
 "cells": [
  {
   "cell_type": "markdown",
   "metadata": {},
   "source": [
    "Injection code\n",
    "    \n",
    "    import pickle\n",
    "    with open('/tmp/data.pkl', 'wb') as f:\n",
    "        data = dict(\n",
    "            parameters=parameters,\n",
    "            filenames=filenames,\n",
    "        )\n",
    "        pickle.dump(data, f)\n",
    "\n",
    "    from os import execvp\n",
    "    os.environ['BAZEL_RUNFILES'] = os.getcwd()\n",
    "    os.environ['PATH'] = '/home/eacousineau/bin:/home/eacousineau/.local/bin:'\n",
    "    sys.path.insert(0, os.path.dirname(__file__))\n",
    "    os.environ['PYTHONPATH'] = ':'.join(sys.path)\n",
    "    execvp('jupyter', ['jupyter', 'notebook'])\n",
    "    exit(1)\n"
   ]
  },
  {
   "cell_type": "code",
   "execution_count": null,
   "metadata": {},
   "outputs": [],
   "source": [
    "import os\n",
    "os.chdir(os.environ['BAZEL_RUNFILES'])"
   ]
  },
  {
   "cell_type": "code",
   "execution_count": null,
   "metadata": {},
   "outputs": [],
   "source": [
    "from mkdoc import *"
   ]
  },
  {
   "cell_type": "code",
   "execution_count": null,
   "metadata": {},
   "outputs": [],
   "source": [
    "import pickle"
   ]
  },
  {
   "cell_type": "code",
   "execution_count": null,
   "metadata": {},
   "outputs": [],
   "source": [
    "with open('/tmp/data.pkl', 'rb') as f:\n",
    "    data = pickle.load(f)"
   ]
  },
  {
   "cell_type": "code",
   "execution_count": null,
   "metadata": {},
   "outputs": [],
   "source": [
    "filenames = data['filenames']\n",
    "parameters = data['parameters']"
   ]
  },
  {
   "cell_type": "code",
   "execution_count": null,
   "metadata": {},
   "outputs": [],
   "source": [
    "quiet = False\n",
    "if True:\n",
    "    includes = list(map(drake_genfile_path_to_include_path, filenames))\n",
    "    include_map = FileDict(zip(filenames, includes))\n",
    "    # TODO(eric.cousineau): Sort files based on include path?\n",
    "    with NamedTemporaryFile('w') as include_file:\n",
    "        for include in includes:\n",
    "            include_file.write(\"#include \\\"{}\\\"\\n\".format(include))\n",
    "        include_file.flush()\n",
    "        if not quiet:\n",
    "            print(\"Parse header...\", file=sys.stderr)\n",
    "        index = cindex.Index(\n",
    "            cindex.conf.lib.clang_createIndex(False, True))\n",
    "        tu = index.parse(include_file.name, parameters)\n",
    "\n",
    "    if not quiet:\n",
    "        print(\"Extract relevant symbols...\", file=sys.stderr)\n",
    "    output = []\n",
    "    extract(include_map, tu.cursor, '', output)"
   ]
  },
  {
   "cell_type": "code",
   "execution_count": null,
   "metadata": {},
   "outputs": [],
   "source": [
    "symbols = sorted(output, key=Symbol.sorting_key)"
   ]
  },
  {
   "cell_type": "code",
   "execution_count": null,
   "metadata": {},
   "outputs": [],
   "source": [
    "sym_map = {\"{}:{}\".format(s.include, s.line): s for s in symbols}"
   ]
  },
  {
   "cell_type": "code",
   "execution_count": null,
   "metadata": {},
   "outputs": [],
   "source": [
    "\n",
    "s = sym_map['drake/multibody/rigid_body_tree.h:161']  # No definition\n"
   ]
  },
  {
   "cell_type": "code",
   "execution_count": null,
   "metadata": {},
   "outputs": [],
   "source": [
    "n = s.node"
   ]
  },
  {
   "cell_type": "code",
   "execution_count": null,
   "metadata": {},
   "outputs": [],
   "source": [
    "n.get_definition().raw_comment"
   ]
  },
  {
   "cell_type": "code",
   "execution_count": null,
   "metadata": {},
   "outputs": [],
   "source": [
    "n.type.spelling"
   ]
  },
  {
   "cell_type": "code",
   "execution_count": null,
   "metadata": {},
   "outputs": [],
   "source": [
    "ps = [\n",
    "    [\n",
    "        ('bad', sym_map['drake/multibody/ik_options.h:6']),\n",
    "        ('good', sym_map['drake/multibody/rigid_body_tree.h:109']),\n",
    "    ],\n",
    "    [\n",
    "        ('bad', sym_map['drake/multibody/kinematics_cache-inl.h:71']),\n",
    "        ('good', sym_map['drake/multibody/kinematics_cache.h:152']),\n",
    "    ],\n",
    "]\n",
    "for p in ps:\n",
    "    for rar, s in p:\n",
    "        print(rar)\n",
    "        n = s.node\n",
    "        print(n.type.spelling)\n",
    "        print(n.location)\n",
    "        print(len(n.raw_comment))\n",
    "        print(n.canonical.location)\n",
    "        print(n.is_definition())\n",
    "        print(\"---\")\n",
    "    print(\"\\n\\n\")"
   ]
  },
  {
   "cell_type": "code",
   "execution_count": null,
   "metadata": {},
   "outputs": [],
   "source": []
  }
 ],
 "metadata": {
  "kernelspec": {
   "display_name": "Python 3",
   "language": "python",
   "name": "python3"
  },
  "language_info": {
   "codemirror_mode": {
    "name": "ipython",
    "version": 3
   },
   "file_extension": ".py",
   "mimetype": "text/x-python",
   "name": "python",
   "nbconvert_exporter": "python",
   "pygments_lexer": "ipython3",
   "version": "3.5.2"
  }
 },
 "nbformat": 4,
 "nbformat_minor": 2
}
