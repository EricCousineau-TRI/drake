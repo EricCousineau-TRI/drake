{
 "cells": [
  {
   "cell_type": "markdown",
   "metadata": {},
   "source": [
    "Injection code\n",
    "    \n",
    "    import pickle\n",
    "    with open('/tmp/data.pkl', 'wb') as f:\n",
    "        data = dict(\n",
    "            parameters=parameters,\n",
    "            filenames=filenames,\n",
    "        )\n",
    "        pickle.dump(data, f)\n",
    "\n",
    "    from os import execvp\n",
    "    os.environ['BAZEL_RUNFILES'] = os.getcwd()\n",
    "    os.environ['PATH'] = '/home/eacousineau/bin:/home/eacousineau/.local/bin:'\n",
    "    sys.path.insert(0, os.path.dirname(__file__))\n",
    "    os.environ['PYTHONPATH'] = ':'.join(sys.path)\n",
    "    execvp('jupyter', ['jupyter', 'notebook'])\n",
    "    exit(1)\n"
   ]
  },
  {
   "cell_type": "code",
   "execution_count": null,
   "metadata": {},
   "outputs": [],
   "source": [
    "import os\n",
    "os.chdir(os.environ['BAZEL_RUNFILES'])"
   ]
  },
  {
   "cell_type": "code",
   "execution_count": null,
   "metadata": {},
   "outputs": [],
   "source": [
    "from mkdoc import *\n",
    "from clang.cindex import *"
   ]
  },
  {
   "cell_type": "code",
   "execution_count": null,
   "metadata": {},
   "outputs": [],
   "source": [
    "import pickle"
   ]
  },
  {
   "cell_type": "code",
   "execution_count": null,
   "metadata": {},
   "outputs": [],
   "source": [
    "with open('/tmp/data.pkl', 'rb') as f:\n",
    "    data = pickle.load(f)"
   ]
  },
  {
   "cell_type": "code",
   "execution_count": null,
   "metadata": {},
   "outputs": [],
   "source": [
    "filenames = data['filenames']\n",
    "parameters = data['parameters']"
   ]
  },
  {
   "cell_type": "code",
   "execution_count": null,
   "metadata": {},
   "outputs": [],
   "source": [
    "quiet = False\n",
    "if True:\n",
    "    includes = list(map(drake_genfile_path_to_include_path, filenames))\n",
    "    include_map = FileDict(zip(filenames, includes))\n",
    "    # TODO(eric.cousineau): Sort files based on include path?\n",
    "    with NamedTemporaryFile('w') as include_file:\n",
    "        for include in includes:\n",
    "            include_file.write(\"#include \\\"{}\\\"\\n\".format(include))\n",
    "        include_file.flush()\n",
    "        if not quiet:\n",
    "            print(\"Parse header...\", file=sys.stderr)\n",
    "        index = cindex.Index(\n",
    "            cindex.conf.lib.clang_createIndex(False, True))\n",
    "        tu = index.parse(include_file.name, parameters)\n",
    "\n",
    "    if not quiet:\n",
    "        print(\"Extract relevant symbols...\", file=sys.stderr)\n",
    "    output = []\n",
    "    extract(include_map, tu.cursor, output)"
   ]
  },
  {
   "cell_type": "code",
   "execution_count": null,
   "metadata": {},
   "outputs": [],
   "source": [
    "symbols = sorted(output, key=Symbol.sorting_key)\n",
    "sym_map = {\"{}:{}\".format(s.include, s.line): s for s in symbols}"
   ]
  },
  {
   "cell_type": "code",
   "execution_count": null,
   "metadata": {},
   "outputs": [],
   "source": [
    "def pretty(n):\n",
    "    if not n:\n",
    "        return \" x \"\n",
    "    if n.kind == CursorKind.TRANSLATION_UNIT:\n",
    "        inc = '<>'\n",
    "    else:\n",
    "        inc = include_map[d(n.location.file.name)]\n",
    "    return \"{}:{}: {}  ({}, comment: {})\".format(inc, n.location.line, d(n.spelling), n.kind, len(n.raw_comment or ''))"
   ]
  },
  {
   "cell_type": "code",
   "execution_count": null,
   "metadata": {},
   "outputs": [],
   "source": [
    "ps = [\n",
    "    [\n",
    "        ('bad class', sym_map['drake/multibody/ik_options.h:6']),\n",
    "        ('good class', sym_map['drake/multibody/rigid_body_tree.h:109']),\n",
    "    ],\n",
    "    [\n",
    "        ('bad method', sym_map['drake/multibody/kinematics_cache-inl.h:71']),\n",
    "        ('good method', sym_map['drake/multibody/kinematics_cache.h:152']),\n",
    "    ],\n",
    "    [\n",
    "        ('good method', sym_map['drake/multibody/rigid_body_tree.h:161']),\n",
    "    ]\n",
    "]\n",
    "for p in ps:\n",
    "    for label, s in p:\n",
    "        print(label)\n",
    "        n = s.node\n",
    "        print(pretty(n))\n",
    "        print(n.is_definition(), n.kind.is_reference())\n",
    "        print(n.get_usr())\n",
    "        print(pretty(n.canonical))\n",
    "        print(pretty(n.referenced))\n",
    "        print(pretty(n.get_definition()))\n",
    "        print(\"---\")\n",
    "    print(\"\\n\\n\")"
   ]
  },
  {
   "cell_type": "code",
   "execution_count": null,
   "metadata": {},
   "outputs": [],
   "source": [
    "s = sym_map['drake/common/trajectories/piecewise_quaternion.h:82']\n",
    "pretty(s.node)"
   ]
  },
  {
   "cell_type": "code",
   "execution_count": null,
   "metadata": {
    "scrolled": true
   },
   "outputs": [],
   "source": [
    "print_symbols(output)"
   ]
  },
  {
   "cell_type": "code",
   "execution_count": null,
   "metadata": {},
   "outputs": [],
   "source": [
    "get_full_name(s.node)"
   ]
  },
  {
   "cell_type": "code",
   "execution_count": null,
   "metadata": {},
   "outputs": [],
   "source": [
    "for s in output:\n",
    "    print(\"'{}'\".format(get_full_name(s.node)))"
   ]
  },
  {
   "cell_type": "code",
   "execution_count": null,
   "metadata": {},
   "outputs": [],
   "source": [
    "s = sym_map[\"drake/geometry/geometry_instance.h:79\"]\n",
    "n = s.node"
   ]
  },
  {
   "cell_type": "code",
   "execution_count": null,
   "metadata": {},
   "outputs": [],
   "source": [
    "print(pretty(n))\n",
    "print(pretty(n.lexical_parent))"
   ]
  },
  {
   "cell_type": "code",
   "execution_count": null,
   "metadata": {},
   "outputs": [],
   "source": [
    "n.extent"
   ]
  },
  {
   "cell_type": "code",
   "execution_count": null,
   "metadata": {},
   "outputs": [],
   "source": []
  }
 ],
 "metadata": {
  "kernelspec": {
   "display_name": "Python 3",
   "language": "python",
   "name": "python3"
  },
  "language_info": {
   "codemirror_mode": {
    "name": "ipython",
    "version": 3
   },
   "file_extension": ".py",
   "mimetype": "text/x-python",
   "name": "python",
   "nbconvert_exporter": "python",
   "pygments_lexer": "ipython3",
   "version": "3.5.2"
  }
 },
 "nbformat": 4,
 "nbformat_minor": 2
}
