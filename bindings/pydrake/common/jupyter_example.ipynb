{
 "cells": [
  {
   "cell_type": "code",
   "execution_count": null,
   "metadata": {},
   "outputs": [],
   "source": [
    "import time\n",
    "\n",
    "import ipywidgets as widgets\n",
    "import matplotlib.pyplot as plt\n",
    "from packaging import version\n",
    "\n",
    "from jupyter_kinda import interactive_update, decorate_interactive_update"
   ]
  },
  {
   "cell_type": "code",
   "execution_count": null,
   "metadata": {},
   "outputs": [],
   "source": [
    "out = widgets.Output()\n",
    "display(out)"
   ]
  },
  {
   "cell_type": "code",
   "execution_count": null,
   "metadata": {},
   "outputs": [],
   "source": [
    "# Show that the output is synchronized across multiple output cells.\n",
    "display(out)"
   ]
  },
  {
   "cell_type": "code",
   "execution_count": null,
   "metadata": {},
   "outputs": [],
   "source": [
    "with out:\n",
    "    print(\"Hello world\")"
   ]
  },
  {
   "cell_type": "code",
   "execution_count": null,
   "metadata": {},
   "outputs": [],
   "source": [
    "with out:\n",
    "    print(\"Hello world x 2\")"
   ]
  },
  {
   "cell_type": "code",
   "execution_count": null,
   "metadata": {},
   "outputs": [],
   "source": [
    "# Direct context form.\n",
    "\n",
    "for i in range(5):\n",
    "    with interactive_update(out):\n",
    "        print(f\"Hello world x {i} {'.' * i}\")\n",
    "    time.sleep(0.2)"
   ]
  },
  {
   "cell_type": "code",
   "execution_count": null,
   "metadata": {},
   "outputs": [],
   "source": [
    "@decorate_interactive_update(out)\n",
    "def my_callback(i):\n",
    "    print(f\"Hello again x {i} {'.' * i}\")\n",
    "\n",
    "for i in range(5):\n",
    "    my_callback(i)\n",
    "    time.sleep(0.2)"
   ]
  },
  {
   "cell_type": "code",
   "execution_count": null,
   "metadata": {},
   "outputs": [],
   "source": [
    "if version.parse(widgets.__version__) >= version.parse(\"7.0.0\"):\n",
    "\n",
    "    with interactive_update(out):\n",
    "        display(widgets.Button(description=\"Widget 1\"))\n",
    "\n",
    "    time.sleep(0.2)\n",
    "\n",
    "    with interactive_update(out):\n",
    "        display(widgets.Checkbox(description=\"Widget 2\"))\n",
    "\n",
    "    time.sleep(0.2)\n",
    "\n",
    "    with interactive_update(out):\n",
    "        display(widgets.Dropdown(options=[\"Widget 3\"]))\n",
    "\n",
    "    time.sleep(0.2)\n",
    "\n",
    "    with interactive_update(out):\n",
    "        plt.plot(0, 0)\n",
    "\n",
    "else:\n",
    "    print(\"Skipping this section\")"
   ]
  },
  {
   "cell_type": "code",
   "execution_count": null,
   "metadata": {},
   "outputs": [],
   "source": []
  }
 ],
 "metadata": {
  "kernelspec": {
   "display_name": "Python 3",
   "language": "python",
   "name": "python3"
  },
  "language_info": {
   "codemirror_mode": {
    "name": "ipython",
    "version": 3
   },
   "file_extension": ".py",
   "mimetype": "text/x-python",
   "name": "python",
   "nbconvert_exporter": "python",
   "pygments_lexer": "ipython3",
   "version": "3.6.9"
  }
 },
 "nbformat": 4,
 "nbformat_minor": 2
}
