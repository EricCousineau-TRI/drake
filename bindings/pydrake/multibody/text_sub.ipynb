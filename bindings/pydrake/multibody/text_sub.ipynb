{
 "cells": [
  {
   "cell_type": "code",
   "execution_count": null,
   "metadata": {},
   "outputs": [],
   "source": [
    "import re"
   ]
  },
  {
   "cell_type": "code",
   "execution_count": null,
   "metadata": {},
   "outputs": [],
   "source": [
    "old = R\"\"\"\n",
    "#include \"pybind11/pybind11.h\"\n",
    "\n",
    "#include \"drake/bindings/pydrake/documentation_pybind.h\"\n",
    "#include \"drake/bindings/pydrake/pydrake_pybind.h\"\n",
    "#include \"drake/multibody/parsers/package_map.h\"\n",
    "\n",
    "#define D(...) DOC(drake, multibody, parsing, __VA_ARGS__)\n",
    "#define D(...) DOC(__VA_ARGS__)\n",
    "\n",
    "namespace drake {\n",
    "namespace pydrake {\n",
    "\n",
    "PYBIND11_MODULE(parsers, m) {\n",
    "  using drake::multibody::parsing::PackageMap;\n",
    "\n",
    "  m.doc() = \"Tools for loading robots from various files\";\n",
    "\n",
    "  py::class_<PackageMap>(m, \"PackageMap\", D(PackageMap))\n",
    "    .def(py::init<>(), D(PackageMap, PackageMap))\n",
    "    .def(\"Add\", &PackageMap::Add, D(PackageMap, Add))\n",
    "    .def(\"Contains\", &PackageMap::Contains, D(PackageMap, Contains))\n",
    "    .def(\"size\", &PackageMap::size, D(PackageMap, size))\n",
    "    .def(\"GetPath\", &PackageMap::GetPath, D(PackageMap, GetPath))\n",
    "    .def(\"PopulateFromFolder\", &PackageMap::PopulateFromFolder,\n",
    "         D(PackageMap, PopulateFromFolder))\n",
    "    .def(\"PopulateFromEnvironment\", &PackageMap::PopulateFromEnvironment,\n",
    "         D(PackageMap, PopulateFromEnvironment))\n",
    "    .def(\"PopulateUpstreamToDrake\", &PackageMap::PopulateUpstreamToDrake,\n",
    "         D(PackageMap, PopulateUpstreamToDrake));\n",
    "}\n",
    "\n",
    "}  // namespace pydrake\n",
    "}  // namespace drake\n",
    "\"\"\""
   ]
  },
  {
   "cell_type": "code",
   "execution_count": null,
   "metadata": {},
   "outputs": [],
   "source": [
    "define_pattern = r\"#define D\\(...\\) DOC\\((.*?)__VA_ARGS__\\)\"\n",
    "\n",
    "def define_sub(m):\n",
    "    pieces = [\"pydrake_doc\"] + m.group(1).split(\", \")\n",
    "    pieces.remove('')\n",
    "    return \"auto& doc = \" + \".\".join(pieces) + \";\"\n",
    "\n",
    "usage_pattern = r\"\\bD\\((.*?)\\)\"\n",
    "\n",
    "def usage_sub(m):\n",
    "    pieces = m.group(1).split(\", \")\n",
    "    suffix = \"\"\n",
    "    try:\n",
    "        index = int(pieces[-1])\n",
    "        pieces = pieces[:-1]\n",
    "        suffix = \"_{}\".format(index)\n",
    "    except ValueError:\n",
    "        pass\n",
    "    if len(pieces) > 1 and pieces[-1] == pieces[-2]:\n",
    "        pieces[-1] = \"ctor\"\n",
    "    return \"doc.\" + \".\".join(pieces) + \".doc\" + suffix\n",
    "\n",
    "new = old\n",
    "new = re.sub(define_pattern, define_sub, new, re.MULTILINE | re.DOTALL)\n",
    "new = re.sub(usage_pattern, usage_sub, new, re.MULTILINE | re.DOTALL)\n",
    "\n",
    "print(new)"
   ]
  },
  {
   "cell_type": "code",
   "execution_count": null,
   "metadata": {},
   "outputs": [],
   "source": []
  }
 ],
 "metadata": {
  "kernelspec": {
   "display_name": "Python 2",
   "language": "python",
   "name": "python2"
  },
  "language_info": {
   "codemirror_mode": {
    "name": "ipython",
    "version": 3
   },
   "file_extension": ".py",
   "mimetype": "text/x-python",
   "name": "python",
   "nbconvert_exporter": "python",
   "pygments_lexer": "ipython3",
   "version": "3.5.2"
  }
 },
 "nbformat": 4,
 "nbformat_minor": 2
}
